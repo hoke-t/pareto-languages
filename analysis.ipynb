{
 "cells": [
  {
   "cell_type": "code",
   "execution_count": 302,
   "metadata": {},
   "outputs": [],
   "source": [
    "import numpy as np\n",
    "import pandas as pd\n",
    "import seaborn as sns\n",
    "import plotly.express as px\n",
    "\n",
    "sns.set_style(\"darkgrid\")"
   ]
  },
  {
   "cell_type": "code",
   "execution_count": 303,
   "metadata": {},
   "outputs": [
    {
     "data": {
      "text/html": [
       "<div>\n",
       "<style scoped>\n",
       "    .dataframe tbody tr th:only-of-type {\n",
       "        vertical-align: middle;\n",
       "    }\n",
       "\n",
       "    .dataframe tbody tr th {\n",
       "        vertical-align: top;\n",
       "    }\n",
       "\n",
       "    .dataframe thead th {\n",
       "        text-align: right;\n",
       "    }\n",
       "</style>\n",
       "<table border=\"1\" class=\"dataframe\">\n",
       "  <thead>\n",
       "    <tr style=\"text-align: right;\">\n",
       "      <th></th>\n",
       "      <th>ISO_1</th>\n",
       "      <th>LangName_1</th>\n",
       "      <th>ISO_2</th>\n",
       "      <th>LangName_2</th>\n",
       "      <th>Similarity</th>\n",
       "      <th>Robustness</th>\n",
       "    </tr>\n",
       "  </thead>\n",
       "  <tbody>\n",
       "    <tr>\n",
       "      <th>0</th>\n",
       "      <td>abe</td>\n",
       "      <td>Western Abnaki</td>\n",
       "      <td>afr</td>\n",
       "      <td>Afrikaans</td>\n",
       "      <td>0.177</td>\n",
       "      <td>Low</td>\n",
       "    </tr>\n",
       "    <tr>\n",
       "      <th>1</th>\n",
       "      <td>abe</td>\n",
       "      <td>Western Abnaki</td>\n",
       "      <td>arb</td>\n",
       "      <td>Standard Arabic</td>\n",
       "      <td>0.094</td>\n",
       "      <td>Low</td>\n",
       "    </tr>\n",
       "    <tr>\n",
       "      <th>2</th>\n",
       "      <td>abe</td>\n",
       "      <td>Western Abnaki</td>\n",
       "      <td>bam</td>\n",
       "      <td>Bambara</td>\n",
       "      <td>0.522</td>\n",
       "      <td>Low</td>\n",
       "    </tr>\n",
       "    <tr>\n",
       "      <th>3</th>\n",
       "      <td>abe</td>\n",
       "      <td>Western Abnaki</td>\n",
       "      <td>bel</td>\n",
       "      <td>Belarusian</td>\n",
       "      <td>0.194</td>\n",
       "      <td>Low</td>\n",
       "    </tr>\n",
       "    <tr>\n",
       "      <th>4</th>\n",
       "      <td>abe</td>\n",
       "      <td>Western Abnaki</td>\n",
       "      <td>ben</td>\n",
       "      <td>Bengali</td>\n",
       "      <td>0.107</td>\n",
       "      <td>Low</td>\n",
       "    </tr>\n",
       "    <tr>\n",
       "      <th>...</th>\n",
       "      <td>...</td>\n",
       "      <td>...</td>\n",
       "      <td>...</td>\n",
       "      <td>...</td>\n",
       "      <td>...</td>\n",
       "      <td>...</td>\n",
       "    </tr>\n",
       "    <tr>\n",
       "      <th>23344</th>\n",
       "      <td>yua</td>\n",
       "      <td>Yucateco</td>\n",
       "      <td>zul</td>\n",
       "      <td>Zulu</td>\n",
       "      <td>0.120</td>\n",
       "      <td>Low</td>\n",
       "    </tr>\n",
       "    <tr>\n",
       "      <th>23345</th>\n",
       "      <td>yue</td>\n",
       "      <td>Yue Chinese</td>\n",
       "      <td>zho</td>\n",
       "      <td>Chinese</td>\n",
       "      <td>1.753</td>\n",
       "      <td>Medium</td>\n",
       "    </tr>\n",
       "    <tr>\n",
       "      <th>23346</th>\n",
       "      <td>yue</td>\n",
       "      <td>Yue Chinese</td>\n",
       "      <td>zsm</td>\n",
       "      <td>Standard Malay</td>\n",
       "      <td>0.017</td>\n",
       "      <td>Medium</td>\n",
       "    </tr>\n",
       "    <tr>\n",
       "      <th>23347</th>\n",
       "      <td>zho</td>\n",
       "      <td>Chinese</td>\n",
       "      <td>zul</td>\n",
       "      <td>Zulu</td>\n",
       "      <td>0.016</td>\n",
       "      <td>High</td>\n",
       "    </tr>\n",
       "    <tr>\n",
       "      <th>23348</th>\n",
       "      <td>zsm</td>\n",
       "      <td>Standard Malay</td>\n",
       "      <td>zul</td>\n",
       "      <td>Zulu</td>\n",
       "      <td>0.242</td>\n",
       "      <td>High</td>\n",
       "    </tr>\n",
       "  </tbody>\n",
       "</table>\n",
       "<p>23349 rows × 6 columns</p>\n",
       "</div>"
      ],
      "text/plain": [
       "      ISO_1      LangName_1 ISO_2       LangName_2  Similarity Robustness\n",
       "0       abe  Western Abnaki   afr        Afrikaans       0.177        Low\n",
       "1       abe  Western Abnaki   arb  Standard Arabic       0.094        Low\n",
       "2       abe  Western Abnaki   bam          Bambara       0.522        Low\n",
       "3       abe  Western Abnaki   bel       Belarusian       0.194        Low\n",
       "4       abe  Western Abnaki   ben          Bengali       0.107        Low\n",
       "...     ...             ...   ...              ...         ...        ...\n",
       "23344   yua        Yucateco   zul             Zulu       0.120        Low\n",
       "23345   yue     Yue Chinese   zho          Chinese       1.753     Medium\n",
       "23346   yue     Yue Chinese   zsm   Standard Malay       0.017     Medium\n",
       "23347   zho         Chinese   zul             Zulu       0.016       High\n",
       "23348   zsm  Standard Malay   zul             Zulu       0.242       High\n",
       "\n",
       "[23349 rows x 6 columns]"
      ]
     },
     "execution_count": 303,
     "metadata": {},
     "output_type": "execute_result"
    }
   ],
   "source": [
    "similarity_df = pd.read_csv(\"similarities_1.0.tsv\", sep=\"\\t\")\n",
    "similarity_df"
   ]
  },
  {
   "cell_type": "code",
   "execution_count": 304,
   "metadata": {},
   "outputs": [],
   "source": [
    "# get similarity from English to all other languages\n",
    "eng_similarity_df = similarity_df[\n",
    "    (similarity_df[\"LangName_1\"] == \"English\") |\n",
    "    (similarity_df[\"LangName_2\"] == \"English\")\n",
    "].copy()\n",
    "eng_similarity_df[\"OtherLangName\"] = eng_similarity_df.apply(\n",
    "    lambda row: row[\"LangName_1\"]\n",
    "    if row[\"LangName_1\"] != \"English\"\n",
    "    else row[\"LangName_2\"], axis=1\n",
    ")\n",
    "english_similarity = dict(eng_similarity_df[[\"OtherLangName\", \"Similarity\"]].values)"
   ]
  },
  {
   "cell_type": "code",
   "execution_count": 305,
   "metadata": {},
   "outputs": [],
   "source": [
    "fsi_df = pd.read_csv(\"fsi_study_time.csv\")"
   ]
  },
  {
   "cell_type": "code",
   "execution_count": 306,
   "metadata": {},
   "outputs": [
    {
     "data": {
      "text/html": [
       "<div>\n",
       "<style scoped>\n",
       "    .dataframe tbody tr th:only-of-type {\n",
       "        vertical-align: middle;\n",
       "    }\n",
       "\n",
       "    .dataframe tbody tr th {\n",
       "        vertical-align: top;\n",
       "    }\n",
       "\n",
       "    .dataframe thead th {\n",
       "        text-align: right;\n",
       "    }\n",
       "</style>\n",
       "<table border=\"1\" class=\"dataframe\">\n",
       "  <thead>\n",
       "    <tr style=\"text-align: right;\">\n",
       "      <th></th>\n",
       "      <th>LangName</th>\n",
       "      <th>Weeks</th>\n",
       "      <th>Category</th>\n",
       "      <th>Similarity</th>\n",
       "    </tr>\n",
       "  </thead>\n",
       "  <tbody>\n",
       "    <tr>\n",
       "      <th>0</th>\n",
       "      <td>Danish</td>\n",
       "      <td>24</td>\n",
       "      <td>1</td>\n",
       "      <td>4.445</td>\n",
       "    </tr>\n",
       "    <tr>\n",
       "      <th>1</th>\n",
       "      <td>Dutch</td>\n",
       "      <td>24</td>\n",
       "      <td>1</td>\n",
       "      <td>6.081</td>\n",
       "    </tr>\n",
       "    <tr>\n",
       "      <th>2</th>\n",
       "      <td>French</td>\n",
       "      <td>30</td>\n",
       "      <td>1</td>\n",
       "      <td>9.665</td>\n",
       "    </tr>\n",
       "    <tr>\n",
       "      <th>3</th>\n",
       "      <td>Italian</td>\n",
       "      <td>24</td>\n",
       "      <td>1</td>\n",
       "      <td>6.757</td>\n",
       "    </tr>\n",
       "    <tr>\n",
       "      <th>4</th>\n",
       "      <td>Norwegian Bokmål</td>\n",
       "      <td>24</td>\n",
       "      <td>1</td>\n",
       "      <td>4.039</td>\n",
       "    </tr>\n",
       "    <tr>\n",
       "      <th>5</th>\n",
       "      <td>Portuguese</td>\n",
       "      <td>24</td>\n",
       "      <td>1</td>\n",
       "      <td>7.944</td>\n",
       "    </tr>\n",
       "    <tr>\n",
       "      <th>6</th>\n",
       "      <td>Romanian</td>\n",
       "      <td>24</td>\n",
       "      <td>1</td>\n",
       "      <td>6.194</td>\n",
       "    </tr>\n",
       "    <tr>\n",
       "      <th>7</th>\n",
       "      <td>Spanish</td>\n",
       "      <td>24</td>\n",
       "      <td>1</td>\n",
       "      <td>7.907</td>\n",
       "    </tr>\n",
       "    <tr>\n",
       "      <th>8</th>\n",
       "      <td>Swedish</td>\n",
       "      <td>24</td>\n",
       "      <td>1</td>\n",
       "      <td>4.158</td>\n",
       "    </tr>\n",
       "    <tr>\n",
       "      <th>9</th>\n",
       "      <td>German</td>\n",
       "      <td>36</td>\n",
       "      <td>2</td>\n",
       "      <td>4.720</td>\n",
       "    </tr>\n",
       "    <tr>\n",
       "      <th>10</th>\n",
       "      <td>Haitian</td>\n",
       "      <td>36</td>\n",
       "      <td>2</td>\n",
       "      <td>2.872</td>\n",
       "    </tr>\n",
       "    <tr>\n",
       "      <th>11</th>\n",
       "      <td>Indonesian</td>\n",
       "      <td>36</td>\n",
       "      <td>2</td>\n",
       "      <td>1.674</td>\n",
       "    </tr>\n",
       "    <tr>\n",
       "      <th>12</th>\n",
       "      <td>Malay</td>\n",
       "      <td>36</td>\n",
       "      <td>2</td>\n",
       "      <td>1.691</td>\n",
       "    </tr>\n",
       "    <tr>\n",
       "      <th>13</th>\n",
       "      <td>Albanian</td>\n",
       "      <td>44</td>\n",
       "      <td>3</td>\n",
       "      <td>4.263</td>\n",
       "    </tr>\n",
       "    <tr>\n",
       "      <th>14</th>\n",
       "      <td>Amharic</td>\n",
       "      <td>44</td>\n",
       "      <td>3</td>\n",
       "      <td>0.144</td>\n",
       "    </tr>\n",
       "    <tr>\n",
       "      <th>15</th>\n",
       "      <td>Armenian</td>\n",
       "      <td>44</td>\n",
       "      <td>3</td>\n",
       "      <td>0.670</td>\n",
       "    </tr>\n",
       "    <tr>\n",
       "      <th>16</th>\n",
       "      <td>Bengali</td>\n",
       "      <td>44</td>\n",
       "      <td>3</td>\n",
       "      <td>1.025</td>\n",
       "    </tr>\n",
       "    <tr>\n",
       "      <th>17</th>\n",
       "      <td>Bulgarian</td>\n",
       "      <td>44</td>\n",
       "      <td>3</td>\n",
       "      <td>2.182</td>\n",
       "    </tr>\n",
       "    <tr>\n",
       "      <th>18</th>\n",
       "      <td>Burmese</td>\n",
       "      <td>44</td>\n",
       "      <td>3</td>\n",
       "      <td>0.271</td>\n",
       "    </tr>\n",
       "    <tr>\n",
       "      <th>19</th>\n",
       "      <td>Czech</td>\n",
       "      <td>44</td>\n",
       "      <td>3</td>\n",
       "      <td>2.439</td>\n",
       "    </tr>\n",
       "    <tr>\n",
       "      <th>20</th>\n",
       "      <td>Finnish</td>\n",
       "      <td>44</td>\n",
       "      <td>3</td>\n",
       "      <td>1.734</td>\n",
       "    </tr>\n",
       "    <tr>\n",
       "      <th>21</th>\n",
       "      <td>Georgian</td>\n",
       "      <td>44</td>\n",
       "      <td>3</td>\n",
       "      <td>0.972</td>\n",
       "    </tr>\n",
       "    <tr>\n",
       "      <th>22</th>\n",
       "      <td>Modern Greek</td>\n",
       "      <td>44</td>\n",
       "      <td>3</td>\n",
       "      <td>1.220</td>\n",
       "    </tr>\n",
       "    <tr>\n",
       "      <th>23</th>\n",
       "      <td>Hebrew</td>\n",
       "      <td>44</td>\n",
       "      <td>3</td>\n",
       "      <td>0.417</td>\n",
       "    </tr>\n",
       "    <tr>\n",
       "      <th>24</th>\n",
       "      <td>Hindi</td>\n",
       "      <td>44</td>\n",
       "      <td>3</td>\n",
       "      <td>0.629</td>\n",
       "    </tr>\n",
       "    <tr>\n",
       "      <th>25</th>\n",
       "      <td>Hungarian</td>\n",
       "      <td>44</td>\n",
       "      <td>3</td>\n",
       "      <td>1.844</td>\n",
       "    </tr>\n",
       "    <tr>\n",
       "      <th>26</th>\n",
       "      <td>Icelandic</td>\n",
       "      <td>44</td>\n",
       "      <td>3</td>\n",
       "      <td>1.698</td>\n",
       "    </tr>\n",
       "    <tr>\n",
       "      <th>27</th>\n",
       "      <td>Kazakh</td>\n",
       "      <td>44</td>\n",
       "      <td>3</td>\n",
       "      <td>0.738</td>\n",
       "    </tr>\n",
       "    <tr>\n",
       "      <th>28</th>\n",
       "      <td>Khmer</td>\n",
       "      <td>44</td>\n",
       "      <td>3</td>\n",
       "      <td>0.235</td>\n",
       "    </tr>\n",
       "    <tr>\n",
       "      <th>29</th>\n",
       "      <td>Northern Kurdish</td>\n",
       "      <td>44</td>\n",
       "      <td>3</td>\n",
       "      <td>0.634</td>\n",
       "    </tr>\n",
       "    <tr>\n",
       "      <th>30</th>\n",
       "      <td>Lao</td>\n",
       "      <td>44</td>\n",
       "      <td>3</td>\n",
       "      <td>0.119</td>\n",
       "    </tr>\n",
       "    <tr>\n",
       "      <th>31</th>\n",
       "      <td>Lithuanian</td>\n",
       "      <td>44</td>\n",
       "      <td>3</td>\n",
       "      <td>2.683</td>\n",
       "    </tr>\n",
       "    <tr>\n",
       "      <th>32</th>\n",
       "      <td>Macedonian</td>\n",
       "      <td>44</td>\n",
       "      <td>3</td>\n",
       "      <td>1.788</td>\n",
       "    </tr>\n",
       "    <tr>\n",
       "      <th>33</th>\n",
       "      <td>Mongolian</td>\n",
       "      <td>44</td>\n",
       "      <td>3</td>\n",
       "      <td>0.439</td>\n",
       "    </tr>\n",
       "    <tr>\n",
       "      <th>34</th>\n",
       "      <td>Nepali</td>\n",
       "      <td>44</td>\n",
       "      <td>3</td>\n",
       "      <td>0.736</td>\n",
       "    </tr>\n",
       "    <tr>\n",
       "      <th>35</th>\n",
       "      <td>Polish</td>\n",
       "      <td>44</td>\n",
       "      <td>3</td>\n",
       "      <td>2.583</td>\n",
       "    </tr>\n",
       "    <tr>\n",
       "      <th>36</th>\n",
       "      <td>Russian</td>\n",
       "      <td>44</td>\n",
       "      <td>3</td>\n",
       "      <td>2.025</td>\n",
       "    </tr>\n",
       "    <tr>\n",
       "      <th>37</th>\n",
       "      <td>Croatian</td>\n",
       "      <td>44</td>\n",
       "      <td>3</td>\n",
       "      <td>3.418</td>\n",
       "    </tr>\n",
       "    <tr>\n",
       "      <th>38</th>\n",
       "      <td>Sinhala</td>\n",
       "      <td>44</td>\n",
       "      <td>3</td>\n",
       "      <td>0.387</td>\n",
       "    </tr>\n",
       "    <tr>\n",
       "      <th>39</th>\n",
       "      <td>Slovak</td>\n",
       "      <td>44</td>\n",
       "      <td>3</td>\n",
       "      <td>3.056</td>\n",
       "    </tr>\n",
       "    <tr>\n",
       "      <th>40</th>\n",
       "      <td>Slovenian</td>\n",
       "      <td>44</td>\n",
       "      <td>3</td>\n",
       "      <td>2.917</td>\n",
       "    </tr>\n",
       "    <tr>\n",
       "      <th>41</th>\n",
       "      <td>Somali</td>\n",
       "      <td>44</td>\n",
       "      <td>3</td>\n",
       "      <td>0.198</td>\n",
       "    </tr>\n",
       "    <tr>\n",
       "      <th>42</th>\n",
       "      <td>Tagalog</td>\n",
       "      <td>44</td>\n",
       "      <td>3</td>\n",
       "      <td>1.354</td>\n",
       "    </tr>\n",
       "    <tr>\n",
       "      <th>43</th>\n",
       "      <td>Tajik</td>\n",
       "      <td>44</td>\n",
       "      <td>3</td>\n",
       "      <td>0.720</td>\n",
       "    </tr>\n",
       "    <tr>\n",
       "      <th>44</th>\n",
       "      <td>Tamil</td>\n",
       "      <td>44</td>\n",
       "      <td>3</td>\n",
       "      <td>0.301</td>\n",
       "    </tr>\n",
       "    <tr>\n",
       "      <th>45</th>\n",
       "      <td>Telugu</td>\n",
       "      <td>44</td>\n",
       "      <td>3</td>\n",
       "      <td>0.439</td>\n",
       "    </tr>\n",
       "    <tr>\n",
       "      <th>46</th>\n",
       "      <td>Thai</td>\n",
       "      <td>44</td>\n",
       "      <td>3</td>\n",
       "      <td>0.539</td>\n",
       "    </tr>\n",
       "    <tr>\n",
       "      <th>47</th>\n",
       "      <td>Turkish</td>\n",
       "      <td>44</td>\n",
       "      <td>3</td>\n",
       "      <td>1.396</td>\n",
       "    </tr>\n",
       "    <tr>\n",
       "      <th>48</th>\n",
       "      <td>Turkmen</td>\n",
       "      <td>44</td>\n",
       "      <td>3</td>\n",
       "      <td>0.712</td>\n",
       "    </tr>\n",
       "    <tr>\n",
       "      <th>49</th>\n",
       "      <td>Ukrainian</td>\n",
       "      <td>44</td>\n",
       "      <td>3</td>\n",
       "      <td>1.572</td>\n",
       "    </tr>\n",
       "    <tr>\n",
       "      <th>50</th>\n",
       "      <td>Urdu</td>\n",
       "      <td>44</td>\n",
       "      <td>3</td>\n",
       "      <td>0.752</td>\n",
       "    </tr>\n",
       "    <tr>\n",
       "      <th>51</th>\n",
       "      <td>Vietnamese</td>\n",
       "      <td>44</td>\n",
       "      <td>3</td>\n",
       "      <td>0.266</td>\n",
       "    </tr>\n",
       "    <tr>\n",
       "      <th>52</th>\n",
       "      <td>Standard Arabic</td>\n",
       "      <td>88</td>\n",
       "      <td>4</td>\n",
       "      <td>0.189</td>\n",
       "    </tr>\n",
       "    <tr>\n",
       "      <th>53</th>\n",
       "      <td>Chinese</td>\n",
       "      <td>88</td>\n",
       "      <td>4</td>\n",
       "      <td>0.012</td>\n",
       "    </tr>\n",
       "    <tr>\n",
       "      <th>54</th>\n",
       "      <td>Japanese</td>\n",
       "      <td>88</td>\n",
       "      <td>4</td>\n",
       "      <td>1.786</td>\n",
       "    </tr>\n",
       "    <tr>\n",
       "      <th>55</th>\n",
       "      <td>Korean</td>\n",
       "      <td>88</td>\n",
       "      <td>4</td>\n",
       "      <td>0.530</td>\n",
       "    </tr>\n",
       "  </tbody>\n",
       "</table>\n",
       "</div>"
      ],
      "text/plain": [
       "            LangName  Weeks  Category  Similarity\n",
       "0             Danish     24         1       4.445\n",
       "1              Dutch     24         1       6.081\n",
       "2             French     30         1       9.665\n",
       "3            Italian     24         1       6.757\n",
       "4   Norwegian Bokmål     24         1       4.039\n",
       "5         Portuguese     24         1       7.944\n",
       "6           Romanian     24         1       6.194\n",
       "7            Spanish     24         1       7.907\n",
       "8            Swedish     24         1       4.158\n",
       "9             German     36         2       4.720\n",
       "10           Haitian     36         2       2.872\n",
       "11        Indonesian     36         2       1.674\n",
       "12             Malay     36         2       1.691\n",
       "13          Albanian     44         3       4.263\n",
       "14           Amharic     44         3       0.144\n",
       "15          Armenian     44         3       0.670\n",
       "16           Bengali     44         3       1.025\n",
       "17         Bulgarian     44         3       2.182\n",
       "18           Burmese     44         3       0.271\n",
       "19             Czech     44         3       2.439\n",
       "20           Finnish     44         3       1.734\n",
       "21          Georgian     44         3       0.972\n",
       "22      Modern Greek     44         3       1.220\n",
       "23            Hebrew     44         3       0.417\n",
       "24             Hindi     44         3       0.629\n",
       "25         Hungarian     44         3       1.844\n",
       "26         Icelandic     44         3       1.698\n",
       "27            Kazakh     44         3       0.738\n",
       "28             Khmer     44         3       0.235\n",
       "29  Northern Kurdish     44         3       0.634\n",
       "30               Lao     44         3       0.119\n",
       "31        Lithuanian     44         3       2.683\n",
       "32        Macedonian     44         3       1.788\n",
       "33         Mongolian     44         3       0.439\n",
       "34            Nepali     44         3       0.736\n",
       "35            Polish     44         3       2.583\n",
       "36           Russian     44         3       2.025\n",
       "37          Croatian     44         3       3.418\n",
       "38           Sinhala     44         3       0.387\n",
       "39            Slovak     44         3       3.056\n",
       "40         Slovenian     44         3       2.917\n",
       "41            Somali     44         3       0.198\n",
       "42           Tagalog     44         3       1.354\n",
       "43             Tajik     44         3       0.720\n",
       "44             Tamil     44         3       0.301\n",
       "45            Telugu     44         3       0.439\n",
       "46              Thai     44         3       0.539\n",
       "47           Turkish     44         3       1.396\n",
       "48           Turkmen     44         3       0.712\n",
       "49         Ukrainian     44         3       1.572\n",
       "50              Urdu     44         3       0.752\n",
       "51        Vietnamese     44         3       0.266\n",
       "52   Standard Arabic     88         4       0.189\n",
       "53           Chinese     88         4       0.012\n",
       "54          Japanese     88         4       1.786\n",
       "55            Korean     88         4       0.530"
      ]
     },
     "execution_count": 306,
     "metadata": {},
     "output_type": "execute_result"
    }
   ],
   "source": [
    "fsi_df[\"Similarity\"] = fsi_df[\"LangName\"].map(english_similarity)\n",
    "fsi_df"
   ]
  },
  {
   "cell_type": "code",
   "execution_count": 307,
   "metadata": {},
   "outputs": [
    {
     "data": {
      "text/plain": [
       "<AxesSubplot: xlabel='Similarity', ylabel='Category'>"
      ]
     },
     "execution_count": 307,
     "metadata": {},
     "output_type": "execute_result"
    },
    {
     "data": {
      "image/png": "[encoded data removed]",
      "text/plain": [
       "<Figure size 640x480 with 1 Axes>"
      ]
     },
     "metadata": {},
     "output_type": "display_data"
    }
   ],
   "source": [
    "fsi_df.groupby(\"Category\").mean(numeric_only=True).reset_index().plot.scatter(x=\"Similarity\", y=\"Category\")"
   ]
  },
  {
   "cell_type": "code",
   "execution_count": 308,
   "metadata": {},
   "outputs": [
    {
     "data": {
      "text/plain": [
       "<AxesSubplot: xlabel='Similarity', ylabel='Category'>"
      ]
     },
     "execution_count": 308,
     "metadata": {},
     "output_type": "execute_result"
    },
    {
     "data": {
      "image/png": "[encoded data removed]",
      "text/plain": [
       "<Figure size 640x480 with 1 Axes>"
      ]
     },
     "metadata": {},
     "output_type": "display_data"
    }
   ],
   "source": [
    "sns.scatterplot(x=fsi_df[\"Similarity\"], y=fsi_df[\"Category\"], alpha=0.6)"
   ]
  },
  {
   "cell_type": "code",
   "execution_count": 309,
   "metadata": {},
   "outputs": [],
   "source": [
    "def get_similarity(similarity_df: pd.DataFrame, lang1: str, lang2: str) -> float:\n",
    "    similarity_df = similarity_df[\n",
    "        (similarity_df[\"LangName_1\"].isin([lang1, lang2])) &\n",
    "        (similarity_df[\"LangName_2\"].isin([lang1, lang2]))\n",
    "    ].copy()\n",
    "    if len(similarity_df) != 1:\n",
    "        raise ValueError(f\"unexpectedly got {len(similarity_df)} rows when computing similarity between {lang1} and {lang2}\")\n",
    "    return similarity_df.iloc[0][\"Similarity\"]"
   ]
  },
  {
   "cell_type": "code",
   "execution_count": 310,
   "metadata": {},
   "outputs": [],
   "source": [
    "known_langs = [\"English\", \"Spanish\"]\n",
    "\n",
    "candidate_df = pd.read_csv(\"ethnologue_top_20.csv\")\n",
    "candidate_df = candidate_df[~candidate_df[\"Language\"].isin(known_langs)].copy()\n",
    "candidate_df[f\"Similarity to {known_langs}\"] = candidate_df[\"Language\"].apply(\n",
    "    lambda lang: max(\n",
    "        get_similarity(similarity_df, known_lang, lang) for known_lang in known_langs\n",
    "    )\n",
    ")\n",
    "candidate_df[\"Non-English Speakers\"] = (\n",
    "    candidate_df[\"Speakers\"]\n",
    "    * (1 - candidate_df[\"English Fraction\"])\n",
    ")\n",
    "\n",
    "for language, similarity, non_english_speakers in zip(candidate_df[\"Language\"], candidate_df[f\"Similarity to {known_langs}\"], candidate_df[\"Non-English Speakers\"]):\n",
    "    dominated = False\n",
    "    for similarity2, non_english_speakers2 in zip(candidate_df[f\"Similarity to {known_langs}\"], candidate_df[\"Non-English Speakers\"]):\n",
    "        dominated |= (\n",
    "            similarity2 > similarity\n",
    "            and non_english_speakers2 > non_english_speakers\n",
    "        )\n",
    "    candidate_df.loc[candidate_df[\"Language\"] == language, \"Dominated\"] = dominated"
   ]
  },
  {
   "cell_type": "code",
   "execution_count": 311,
   "metadata": {},
   "outputs": [
    {
     "data": {
      "application/vnd.plotly.v1+json": {
       "config": {
        "plotlyServerURL": "https://plot.ly"
       },
       "data": [
        {
         "customdata": [
          [
           "Mandarin Chinese"
          ],
          [
           "Hindi"
          ],
          [
           "French"
          ],
          [
           "Russian"
          ],
          [
           "Portuguese"
          ]
         ],
         "hovertemplate": "Dominated=False<br>Similarity to ['English', 'Spanish']=%{x}<br>Non-English Speakers=%{y}<br>Language=%{customdata[0]}<extra></extra>",
         "legendgroup": "False",
         "marker": {
          "color": "#636efa",
          "symbol": "circle"
         },
         "mode": "markers+text",
         "name": "False",
         "orientation": "v",
         "showlegend": true,
         "text": [
          "Mandarin Chinese",
          "Hindi",
          "French",
          "Russian",
          "Portuguese"
         ],
         "textposition": "top center",
         "type": "scatter",
         "x": [
          0.051,
          0.629,
          11.196,
          2.252,
          17.414
         ],
         "xaxis": "x",
         "y": [
          1078000000,
          541980000,
          222021000,
          240125999.99999997,
          221622000
         ],
         "yaxis": "y"
        },
        {
         "customdata": [
          [
           "Standard Arabic"
          ],
          [
           "Bengali"
          ],
          [
           "Urdu"
          ],
          [
           "Indonesian"
          ],
          [
           "German"
          ],
          [
           "Japanese"
          ],
          [
           "Marathi"
          ],
          [
           "Telugu"
          ],
          [
           "Turkish"
          ],
          [
           "Tamil"
          ],
          [
           "Vietnamese"
          ]
         ],
         "hovertemplate": "Dominated=True<br>Similarity to ['English', 'Spanish']=%{x}<br>Non-English Speakers=%{y}<br>Language=%{customdata[0]}<extra></extra>",
         "legendgroup": "True",
         "marker": {
          "color": "#EF553B",
          "symbol": "circle"
         },
         "mode": "markers+text",
         "name": "True",
         "orientation": "v",
         "showlegend": true,
         "text": [
          "Standard Arabic",
          "Bengali",
          "Urdu",
          "Indonesian",
          "German",
          "Japanese",
          "Marathi",
          "Telugu",
          "Turkish",
          "Tamil",
          "Vietnamese"
         ],
         "textposition": "top center",
         "type": "scatter",
         "x": [
          0.284,
          1.025,
          0.752,
          1.707,
          4.72,
          1.786,
          0.369,
          0.439,
          1.599,
          0.311,
          0.406
         ],
         "xaxis": "x",
         "y": [
          232900000,
          239976000,
          92520000,
          195020000,
          59223999.99999999,
          121638000,
          89190000,
          86130000,
          73123000,
          77760000,
          83594000
         ],
         "yaxis": "y"
        }
       ],
       "layout": {
        "legend": {
         "title": {
          "text": "Dominated"
         },
         "tracegroupgap": 0
        },
        "margin": {
         "t": 60
        },
        "template": {
         "data": {
          "bar": [
           {
            "error_x": {
             "color": "#2a3f5f"
            },
            "error_y": {
             "color": "#2a3f5f"
            },
            "marker": {
             "line": {
              "color": "#E5ECF6",
              "width": 0.5
             },
             "pattern": {
              "fillmode": "overlay",
              "size": 10,
              "solidity": 0.2
             }
            },
            "type": "bar"
           }
          ],
          "barpolar": [
           {
            "marker": {
             "line": {
              "color": "#E5ECF6",
              "width": 0.5
             },
             "pattern": {
              "fillmode": "overlay",
              "size": 10,
              "solidity": 0.2
             }
            },
            "type": "barpolar"
           }
          ],
          "carpet": [
           {
            "aaxis": {
             "endlinecolor": "#2a3f5f",
             "gridcolor": "white",
             "linecolor": "white",
             "minorgridcolor": "white",
             "startlinecolor": "#2a3f5f"
            },
            "baxis": {
             "endlinecolor": "#2a3f5f",
             "gridcolor": "white",
             "linecolor": "white",
             "minorgridcolor": "white",
             "startlinecolor": "#2a3f5f"
            },
            "type": "carpet"
           }
          ],
          "choropleth": [
           {
            "colorbar": {
             "outlinewidth": 0,
             "ticks": ""
            },
            "type": "choropleth"
           }
          ],
          "contour": [
           {
            "colorbar": {
             "outlinewidth": 0,
             "ticks": ""
            },
            "colorscale": [
             [
              0,
              "#0d0887"
             ],
             [
              0.1111111111111111,
              "#46039f"
             ],
             [
              0.2222222222222222,
              "#7201a8"
             ],
             [
              0.3333333333333333,
              "#9c179e"
             ],
             [
              0.4444444444444444,
              "#bd3786"
             ],
             [
              0.5555555555555556,
              "#d8576b"
             ],
             [
              0.6666666666666666,
              "#ed7953"
             ],
             [
              0.7777777777777778,
              "#fb9f3a"
             ],
             [
              0.8888888888888888,
              "#fdca26"
             ],
             [
              1,
              "#f0f921"
             ]
            ],
            "type": "contour"
           }
          ],
          "contourcarpet": [
           {
            "colorbar": {
             "outlinewidth": 0,
             "ticks": ""
            },
            "type": "contourcarpet"
           }
          ],
          "heatmap": [
           {
            "colorbar": {
             "outlinewidth": 0,
             "ticks": ""
            },
            "colorscale": [
             [
              0,
              "#0d0887"
             ],
             [
              0.1111111111111111,
              "#46039f"
             ],
             [
              0.2222222222222222,
              "#7201a8"
             ],
             [
              0.3333333333333333,
              "#9c179e"
             ],
             [
              0.4444444444444444,
              "#bd3786"
             ],
             [
              0.5555555555555556,
              "#d8576b"
             ],
             [
              0.6666666666666666,
              "#ed7953"
             ],
             [
              0.7777777777777778,
              "#fb9f3a"
             ],
             [
              0.8888888888888888,
              "#fdca26"
             ],
             [
              1,
              "#f0f921"
             ]
            ],
            "type": "heatmap"
           }
          ],
          "heatmapgl": [
           {
            "colorbar": {
             "outlinewidth": 0,
             "ticks": ""
            },
            "colorscale": [
             [
              0,
              "#0d0887"
             ],
             [
              0.1111111111111111,
              "#46039f"
             ],
             [
              0.2222222222222222,
              "#7201a8"
             ],
             [
              0.3333333333333333,
              "#9c179e"
             ],
             [
              0.4444444444444444,
              "#bd3786"
             ],
             [
              0.5555555555555556,
              "#d8576b"
             ],
             [
              0.6666666666666666,
              "#ed7953"
             ],
             [
              0.7777777777777778,
              "#fb9f3a"
             ],
             [
              0.8888888888888888,
              "#fdca26"
             ],
             [
              1,
              "#f0f921"
             ]
            ],
            "type": "heatmapgl"
           }
          ],
          "histogram": [
           {
            "marker": {
             "pattern": {
              "fillmode": "overlay",
              "size": 10,
              "solidity": 0.2
             }
            },
            "type": "histogram"
           }
          ],
          "histogram2d": [
           {
            "colorbar": {
             "outlinewidth": 0,
             "ticks": ""
            },
            "colorscale": [
             [
              0,
              "#0d0887"
             ],
             [
              0.1111111111111111,
              "#46039f"
             ],
             [
              0.2222222222222222,
              "#7201a8"
             ],
             [
              0.3333333333333333,
              "#9c179e"
             ],
             [
              0.4444444444444444,
              "#bd3786"
             ],
             [
              0.5555555555555556,
              "#d8576b"
             ],
             [
              0.6666666666666666,
              "#ed7953"
             ],
             [
              0.7777777777777778,
              "#fb9f3a"
             ],
             [
              0.8888888888888888,
              "#fdca26"
             ],
             [
              1,
              "#f0f921"
             ]
            ],
            "type": "histogram2d"
           }
          ],
          "histogram2dcontour": [
           {
            "colorbar": {
             "outlinewidth": 0,
             "ticks": ""
            },
            "colorscale": [
             [
              0,
              "#0d0887"
             ],
             [
              0.1111111111111111,
              "#46039f"
             ],
             [
              0.2222222222222222,
              "#7201a8"
             ],
             [
              0.3333333333333333,
              "#9c179e"
             ],
             [
              0.4444444444444444,
              "#bd3786"
             ],
             [
              0.5555555555555556,
              "#d8576b"
             ],
             [
              0.6666666666666666,
              "#ed7953"
             ],
             [
              0.7777777777777778,
              "#fb9f3a"
             ],
             [
              0.8888888888888888,
              "#fdca26"
             ],
             [
              1,
              "#f0f921"
             ]
            ],
            "type": "histogram2dcontour"
           }
          ],
          "mesh3d": [
           {
            "colorbar": {
             "outlinewidth": 0,
             "ticks": ""
            },
            "type": "mesh3d"
           }
          ],
          "parcoords": [
           {
            "line": {
             "colorbar": {
              "outlinewidth": 0,
              "ticks": ""
             }
            },
            "type": "parcoords"
           }
          ],
          "pie": [
           {
            "automargin": true,
            "type": "pie"
           }
          ],
          "scatter": [
           {
            "fillpattern": {
             "fillmode": "overlay",
             "size": 10,
             "solidity": 0.2
            },
            "type": "scatter"
           }
          ],
          "scatter3d": [
           {
            "line": {
             "colorbar": {
              "outlinewidth": 0,
              "ticks": ""
             }
            },
            "marker": {
             "colorbar": {
              "outlinewidth": 0,
              "ticks": ""
             }
            },
            "type": "scatter3d"
           }
          ],
          "scattercarpet": [
           {
            "marker": {
             "colorbar": {
              "outlinewidth": 0,
              "ticks": ""
             }
            },
            "type": "scattercarpet"
           }
          ],
          "scattergeo": [
           {
            "marker": {
             "colorbar": {
              "outlinewidth": 0,
              "ticks": ""
             }
            },
            "type": "scattergeo"
           }
          ],
          "scattergl": [
           {
            "marker": {
             "colorbar": {
              "outlinewidth": 0,
              "ticks": ""
             }
            },
            "type": "scattergl"
           }
          ],
          "scattermapbox": [
           {
            "marker": {
             "colorbar": {
              "outlinewidth": 0,
              "ticks": ""
             }
            },
            "type": "scattermapbox"
           }
          ],
          "scatterpolar": [
           {
            "marker": {
             "colorbar": {
              "outlinewidth": 0,
              "ticks": ""
             }
            },
            "type": "scatterpolar"
           }
          ],
          "scatterpolargl": [
           {
            "marker": {
             "colorbar": {
              "outlinewidth": 0,
              "ticks": ""
             }
            },
            "type": "scatterpolargl"
           }
          ],
          "scatterternary": [
           {
            "marker": {
             "colorbar": {
              "outlinewidth": 0,
              "ticks": ""
             }
            },
            "type": "scatterternary"
           }
          ],
          "surface": [
           {
            "colorbar": {
             "outlinewidth": 0,
             "ticks": ""
            },
            "colorscale": [
             [
              0,
              "#0d0887"
             ],
             [
              0.1111111111111111,
              "#46039f"
             ],
             [
              0.2222222222222222,
              "#7201a8"
             ],
             [
              0.3333333333333333,
              "#9c179e"
             ],
             [
              0.4444444444444444,
              "#bd3786"
             ],
             [
              0.5555555555555556,
              "#d8576b"
             ],
             [
              0.6666666666666666,
              "#ed7953"
             ],
             [
              0.7777777777777778,
              "#fb9f3a"
             ],
             [
              0.8888888888888888,
              "#fdca26"
             ],
             [
              1,
              "#f0f921"
             ]
            ],
            "type": "surface"
           }
          ],
          "table": [
           {
            "cells": {
             "fill": {
              "color": "#EBF0F8"
             },
             "line": {
              "color": "white"
             }
            },
            "header": {
             "fill": {
              "color": "#C8D4E3"
             },
             "line": {
              "color": "white"
             }
            },
            "type": "table"
           }
          ]
         },
         "layout": {
          "annotationdefaults": {
           "arrowcolor": "#2a3f5f",
           "arrowhead": 0,
           "arrowwidth": 1
          },
          "autotypenumbers": "strict",
          "coloraxis": {
           "colorbar": {
            "outlinewidth": 0,
            "ticks": ""
           }
          },
          "colorscale": {
           "diverging": [
            [
             0,
             "#8e0152"
            ],
            [
             0.1,
             "#c51b7d"
            ],
            [
             0.2,
             "#de77ae"
            ],
            [
             0.3,
             "#f1b6da"
            ],
            [
             0.4,
             "#fde0ef"
            ],
            [
             0.5,
             "#f7f7f7"
            ],
            [
             0.6,
             "#e6f5d0"
            ],
            [
             0.7,
             "#b8e186"
            ],
            [
             0.8,
             "#7fbc41"
            ],
            [
             0.9,
             "#4d9221"
            ],
            [
             1,
             "#276419"
            ]
           ],
           "sequential": [
            [
             0,
             "#0d0887"
            ],
            [
             0.1111111111111111,
             "#46039f"
            ],
            [
             0.2222222222222222,
             "#7201a8"
            ],
            [
             0.3333333333333333,
             "#9c179e"
            ],
            [
             0.4444444444444444,
             "#bd3786"
            ],
            [
             0.5555555555555556,
             "#d8576b"
            ],
            [
             0.6666666666666666,
             "#ed7953"
            ],
            [
             0.7777777777777778,
             "#fb9f3a"
            ],
            [
             0.8888888888888888,
             "#fdca26"
            ],
            [
             1,
             "#f0f921"
            ]
           ],
           "sequentialminus": [
            [
             0,
             "#0d0887"
            ],
            [
             0.1111111111111111,
             "#46039f"
            ],
            [
             0.2222222222222222,
             "#7201a8"
            ],
            [
             0.3333333333333333,
             "#9c179e"
            ],
            [
             0.4444444444444444,
             "#bd3786"
            ],
            [
             0.5555555555555556,
             "#d8576b"
            ],
            [
             0.6666666666666666,
             "#ed7953"
            ],
            [
             0.7777777777777778,
             "#fb9f3a"
            ],
            [
             0.8888888888888888,
             "#fdca26"
            ],
            [
             1,
             "#f0f921"
            ]
           ]
          },
          "colorway": [
           "#636efa",
           "#EF553B",
           "#00cc96",
           "#ab63fa",
           "#FFA15A",
           "#19d3f3",
           "#FF6692",
           "#B6E880",
           "#FF97FF",
           "#FECB52"
          ],
          "font": {
           "color": "#2a3f5f"
          },
          "geo": {
           "bgcolor": "white",
           "lakecolor": "white",
           "landcolor": "#E5ECF6",
           "showlakes": true,
           "showland": true,
           "subunitcolor": "white"
          },
          "hoverlabel": {
           "align": "left"
          },
          "hovermode": "closest",
          "mapbox": {
           "style": "light"
          },
          "paper_bgcolor": "white",
          "plot_bgcolor": "#E5ECF6",
          "polar": {
           "angularaxis": {
            "gridcolor": "white",
            "linecolor": "white",
            "ticks": ""
           },
           "bgcolor": "#E5ECF6",
           "radialaxis": {
            "gridcolor": "white",
            "linecolor": "white",
            "ticks": ""
           }
          },
          "scene": {
           "xaxis": {
            "backgroundcolor": "#E5ECF6",
            "gridcolor": "white",
            "gridwidth": 2,
            "linecolor": "white",
            "showbackground": true,
            "ticks": "",
            "zerolinecolor": "white"
           },
           "yaxis": {
            "backgroundcolor": "#E5ECF6",
            "gridcolor": "white",
            "gridwidth": 2,
            "linecolor": "white",
            "showbackground": true,
            "ticks": "",
            "zerolinecolor": "white"
           },
           "zaxis": {
            "backgroundcolor": "#E5ECF6",
            "gridcolor": "white",
            "gridwidth": 2,
            "linecolor": "white",
            "showbackground": true,
            "ticks": "",
            "zerolinecolor": "white"
           }
          },
          "shapedefaults": {
           "line": {
            "color": "#2a3f5f"
           }
          },
          "ternary": {
           "aaxis": {
            "gridcolor": "white",
            "linecolor": "white",
            "ticks": ""
           },
           "baxis": {
            "gridcolor": "white",
            "linecolor": "white",
            "ticks": ""
           },
           "bgcolor": "#E5ECF6",
           "caxis": {
            "gridcolor": "white",
            "linecolor": "white",
            "ticks": ""
           }
          },
          "title": {
           "x": 0.05
          },
          "xaxis": {
           "automargin": true,
           "gridcolor": "white",
           "linecolor": "white",
           "ticks": "",
           "title": {
            "standoff": 15
           },
           "zerolinecolor": "white",
           "zerolinewidth": 2
          },
          "yaxis": {
           "automargin": true,
           "gridcolor": "white",
           "linecolor": "white",
           "ticks": "",
           "title": {
            "standoff": 15
           },
           "zerolinecolor": "white",
           "zerolinewidth": 2
          }
         }
        },
        "xaxis": {
         "anchor": "y",
         "domain": [
          0,
          1
         ],
         "title": {
          "text": "Similarity to ['English', 'Spanish']"
         }
        },
        "yaxis": {
         "anchor": "x",
         "domain": [
          0,
          1
         ],
         "title": {
          "text": "Non-English Speakers"
         }
        }
       }
      }
     },
     "metadata": {},
     "output_type": "display_data"
    }
   ],
   "source": [
    "fig = px.scatter(\n",
    "    candidate_df,\n",
    "    x=f\"Similarity to {known_langs}\",\n",
    "    y=\"Non-English Speakers\",\n",
    "    hover_data=[\"Language\"],\n",
    "    color=\"Dominated\",\n",
    "    text=\"Language\"\n",
    ").update_traces(\n",
    "    textposition=\"top center\"\n",
    ")\n",
    "fig.show()"
   ]
  },
  {
   "cell_type": "code",
   "execution_count": 312,
   "metadata": {},
   "outputs": [],
   "source": [
    "fig.write_html(\"scatter.html\")"
   ]
  },
  {
   "cell_type": "code",
   "execution_count": null,
   "metadata": {},
   "outputs": [],
   "source": []
  }
 ],
 "metadata": {
  "kernelspec": {
   "display_name": "py10",
   "language": "python",
   "name": "python3"
  },
  "language_info": {
   "codemirror_mode": {
    "name": "ipython",
    "version": 3
   },
   "file_extension": ".py",
   "mimetype": "text/x-python",
   "name": "python",
   "nbconvert_exporter": "python",
   "pygments_lexer": "ipython3",
   "version": "3.10.8"
  },
  "orig_nbformat": 4,
  "vscode": {
   "interpreter": {
    "hash": "d1c117c925e1d76892e5e50f436168e97d366dd6a036da8f2f16451991d8f089"
   }
  }
 },
 "nbformat": 4,
 "nbformat_minor": 2
}
